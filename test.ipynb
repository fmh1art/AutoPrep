{
 "cells": [
  {
   "cell_type": "code",
   "execution_count": 1,
   "metadata": {},
   "outputs": [
    {
     "name": "stderr",
     "output_type": "stream",
     "text": [
      "HTTP Request: POST https://api.deepseek.com/chat/completions \"HTTP/1.1 200 OK\"\n"
     ]
    }
   ],
   "source": [
    "import os\n",
    "import pickle as pkl\n",
    "from src.model.mula_tabpro.agent import Cleaner, ViewGenerator, NL2SQLer, Imputater\n",
    "from src.dataset import TQADataset\n",
    "from global_values import *\n",
    "from src.model.mula_tabpro.base import *\n",
    "import sqlite3\n",
    "from src.llm.gpt_inference import GPTPOOL\n",
    "from src.tools.utils import post_process_sql\n",
    "from src.tools.sql_executor import SQLExecutor\n",
    "from src.tools.binder_utils.evaluator import Evaluator\n",
    "\n",
    "# conn = sqlite3.connect('./tmp/test.db')\n",
    "\n",
    "# if os.path.exists('tmp/wiki_qa.pkl'):\n",
    "#     ds = pkl.load(open('tmp/wiki_qa.pkl', 'rb'))\n",
    "# else:\n",
    "#     ds = TQADataset(dataset_name='wiki_qa')\n",
    "#     ds.load_data()\n",
    "#     with open('tmp/wiki_qa.pkl', 'wb') as f:\n",
    "#         pkl.dump(ds, f)\n",
    "\n",
    "# sql_exe = SQLExecutor()\n",
    "# gpt = GPTPOOL(model='deepseek-coder')\n",
    "gpt = GPTPOOL(model='deepseek-coder')\n",
    "output = gpt.query(\"\"\"Given the table saved in file data.csv, read it with pandas. Here is example rows:\n",
    "\n",
    "Date | Cyclist | Medal | age\n",
    "02-28 | Alej(ESP) | \"3\" | \"35\"\n",
    "01/01 | Dav. ITA | \"2\" | \"28\"\n",
    "02/22 | Alex.(ITA) | \"2*\" | \"28\"\n",
    "03/15 | Juan(ARG) | \"1\" | \"30\"\n",
    "04/05 | Maria(FRA) | \"3\" | \"25\"\n",
    "05/10 | Carlos(BRA) | \"2\" | \"29\"\n",
    "06/18 | Sofia(GER) | \"1\" | \"27\"\n",
    "07/22 | Pedro(POR) | \"2*\" | \"31\"\n",
    "08/30 | Ana(ESP) | \"3\" | \"26\"\n",
    "09/12 | Luca(ITA) | \"1\" | \"28\"\n",
    "10/25 | Clara(USA) | \"2\" | \"32\"\n",
    "11/08 | Miguel(MEX) | \"3\" | \"29\"\n",
    "12/14 | Laura(CAN) | \"1\" | \"24\"\n",
    "\n",
    "Question: which country has the most medals in total in February?\n",
    "\n",
    "To answer the question, we can generate SQL. But before that, please generate python code to process the table (notice, donot generate code to answer the question)\"\"\")"
   ]
  },
  {
   "cell_type": "code",
   "execution_count": 2,
   "metadata": {},
   "outputs": [
    {
     "name": "stdout",
     "output_type": "stream",
     "text": [
      "Certainly! Below is the Python code to read the `data.csv` file into a pandas DataFrame and process it. This code will read the CSV file, clean the data, and prepare it for further analysis.\n",
      "\n",
      "```python\n",
      "import pandas as pd\n",
      "\n",
      "# Read the CSV file into a DataFrame\n",
      "df = pd.read_csv('data.csv', delimiter='|')\n",
      "\n",
      "# Remove leading/trailing whitespaces from column names\n",
      "df.columns = df.columns.str.strip()\n",
      "\n",
      "# Clean the 'Date' column to ensure it's in a consistent format\n",
      "df['Date'] = pd.to_datetime(df['Date'], format='%m/%d', errors='coerce')\n",
      "\n",
      "# Extract the country code from the 'Cyclist' column\n",
      "df['Country'] = df['Cyclist'].str.extract(r'\\((.*?)\\)')\n",
      "\n",
      "# Clean the 'Medal' column to remove any special characters\n",
      "df['Medal'] = df['Medal'].str.replace(r'[*]', '', regex=True)\n",
      "\n",
      "# Convert 'Medal' and 'age' columns to numeric\n",
      "df['Medal'] = pd.to_numeric(df['Medal'], errors='coerce')\n",
      "df['age'] = pd.to_numeric(df['age'], errors='coerce')\n",
      "\n",
      "# Filter rows where 'Date' is in February\n",
      "df_february = df[df['Date'].dt.month == 2]\n",
      "\n",
      "# Display the processed DataFrame for February\n",
      "print(df_february)\n",
      "```\n",
      "\n",
      "### Explanation:\n",
      "1. **Reading the CSV File**: The `pd.read_csv` function reads the CSV file into a pandas DataFrame.\n",
      "2. **Cleaning Column Names**: The `str.strip()` method is used to remove any leading or trailing whitespaces from the column names.\n",
      "3. **Processing the 'Date' Column**: The `pd.to_datetime` function converts the 'Date' column to a datetime format, ensuring it's in a consistent format.\n",
      "4. **Extracting Country Code**: The `str.extract` method is used to extract the country code from the 'Cyclist' column.\n",
      "5. **Cleaning the 'Medal' Column**: The `str.replace` method removes any special characters (like `*`) from the 'Medal' column.\n",
      "6. **Converting Columns to Numeric**: The `pd.to_numeric` function converts the 'Medal' and 'age' columns to numeric types.\n",
      "7. **Filtering for February**: The DataFrame is filtered to include only rows where the 'Date' is in February.\n",
      "\n",
      "This code prepares the DataFrame for further analysis, such as answering the question about which country has the most medals in total in February.\n"
     ]
    }
   ],
   "source": [
    "print(output)"
   ]
  },
  {
   "cell_type": "code",
   "execution_count": 1,
   "metadata": {},
   "outputs": [
    {
     "data": {
      "text/plain": [
       "0.8288288288288288"
      ]
     },
     "execution_count": 1,
     "metadata": {},
     "output_type": "execute_result"
    }
   ],
   "source": [
    "from Levenshtein import ratio\n",
    "ratio('please standardize the column `date` to datetime format.',  'please standardize the column `no` to numerical format.')"
   ]
  },
  {
   "cell_type": "code",
   "execution_count": 4,
   "metadata": {},
   "outputs": [],
   "source": [
    "import pickle as pkl\n",
    "df = pkl.load(open(fr'D:\\0th-D\\MulA_Tabpro\\tmp\\outputs\\mula_tabpro_v3.1.22-tableqa-deepseek-chat-False-LEVEN_RATION_-1_ablation_study_G_C_I_processed_data.pkl', 'rb'))\n",
    "data_dic = {d.id: d for d in df}\n",
    "df_dic = {d.id: d.tbl for d in df}\n",
    "pkl.dump(df_dic, open(fr'D:\\0th-D\\MulA_Tabpro\\df_dict.pkl', 'wb'))"
   ]
  },
  {
   "cell_type": "code",
   "execution_count": 140,
   "metadata": {},
   "outputs": [
    {
     "data": {
      "text/plain": [
       "True"
      ]
     },
     "execution_count": 140,
     "metadata": {},
     "output_type": "execute_result"
    }
   ],
   "source": [
    "root = fr'D:\\1th-D\\Firefly\\RAG_LLM_DM\\data\\TQA\\wiki_qa'\n",
    "save_root = fr'D:\\1th-D\\Firefly\\RAG_LLM_DM\\data\\TQA\\wiki_qa\\processed_data'\n",
    "os.path.exists(root)"
   ]
  },
  {
   "cell_type": "code",
   "execution_count": 141,
   "metadata": {},
   "outputs": [],
   "source": [
    "df = pd.read_csv(os.path.join(root, 'test_unseen.csv'))\n",
    "for i, row in df.iterrows():\n",
    "    id = row['id']\n",
    "    table = row['table']\n",
    "    subroot = table.split('/')[:-1]\n",
    "    filename = table.split('/')[-1]\n",
    "    tsv_filename = filename.replace('.csv', '.tsv')\n",
    "\n",
    "    tbl = data_dic[id].tbl\n",
    "\n",
    "    fileroot = copy.deepcopy(save_root)\n",
    "    for dir in subroot:\n",
    "        fileroot = os.path.join(fileroot, dir)\n",
    "\n",
    "    if not os.path.exists(fileroot):\n",
    "        os.makedirs(fileroot)\n",
    "    \n",
    "    tbl.to_csv(os.path.join(fileroot, tsv_filename), sep='\\t', index=False)\n",
    "    tbl.to_csv(os.path.join(fileroot, filename), index=False)"
   ]
  },
  {
   "cell_type": "code",
   "execution_count": 1,
   "metadata": {},
   "outputs": [
    {
     "data": {
      "image/png": "[encoded data removed]",
      "text/plain": [
       "<Figure size 340x250 with 1 Axes>"
      ]
     },
     "metadata": {},
     "output_type": "display_data"
    }
   ],
   "source": [
    "import matplotlib.pyplot as plt\n",
    "import seaborn as sns\n",
    "\n",
    "categories = ['unstandardized columns', 'missing columns', 'reasoning failure', 'SQL grammar limit']\n",
    "values = [8, 4, 1, 2]\n",
    "\n",
    "sns.set(style=\"white\")\n",
    "\n",
    "plt.figure(figsize=(3.4, 2.5)) \n",
    "bars = plt.bar(categories, values, color=sns.color_palette(\"deep\", 4), width=0.6, label=categories) \n",
    "\n",
    "# plt.xlabel('Categories', fontsize=14, fontweight='bold')\n",
    "# plt.ylabel('Error Number', fontsize=14, fontweight='bold')\n",
    "\n",
    "plt.grid(False)\n",
    "\n",
    "max_value = max(values)\n",
    "plt.ylim(0, max_value + 1)  \n",
    "\n",
    "for bar in bars:\n",
    "    yval = bar.get_height()\n",
    "    plt.text(bar.get_x() + bar.get_width()/2, yval + 0.2, round(yval, 2),\n",
    "             ha='center', va='bottom', fontsize=12)\n",
    "\n",
    "plt.xticks([])\n",
    "plt.yticks(fontsize=12)\n",
    "\n",
    "plt.gca().set_facecolor('white')\n",
    "\n",
    "for spine in plt.gca().spines.values():\n",
    "    spine.set_linewidth(0.8) \n",
    "\n",
    "# plt.legend(fontsize=10, title_fontsize=12)\n",
    "\n",
    "plt.tight_layout()\n",
    "# plt.show()\n",
    "# save as pdf\n",
    "plt.savefig('error_distribution_tabfact.pdf', format='pdf')"
   ]
  },
  {
   "cell_type": "code",
   "execution_count": 68,
   "metadata": {},
   "outputs": [
    {
     "data": {
      "image/png": "[encoded data removed]",
      "text/plain": [
       "<Figure size 340x250 with 1 Axes>"
      ]
     },
     "metadata": {},
     "output_type": "display_data"
    }
   ],
   "source": [
    "import matplotlib.pyplot as plt\n",
    "import seaborn as sns\n",
    "\n",
    "categories = ['unstandardized columns', 'missing columns', 'reasoning failure', 'SQL grammar limit']\n",
    "values = [24, 5, 1, 2]\n",
    "\n",
    "sns.set(style=\"white\")\n",
    "\n",
    "plt.figure(figsize=(3.4, 2.5)) \n",
    "bars = plt.bar(categories, values, color=sns.color_palette(\"deep\", 4), width=0.6, label=categories)  # 调整柱子宽度为 0.6\n",
    "\n",
    "# plt.xlabel('Categories', fontsize=14, fontweight='bold')\n",
    "# plt.ylabel('Error Number', fontsize=14, fontweight='bold')\n",
    "\n",
    "plt.grid(False)\n",
    "\n",
    "max_value = max(values)\n",
    "plt.ylim(0, max_value + 3)  \n",
    "\n",
    "for bar in bars:\n",
    "    yval = bar.get_height()\n",
    "    plt.text(bar.get_x() + bar.get_width()/2, yval + 0.5, round(yval, 2),\n",
    "             ha='center', va='bottom', fontsize=12)\n",
    "\n",
    "plt.xticks([])\n",
    "plt.yticks(fontsize=12)\n",
    "\n",
    "plt.gca().set_facecolor('white')\n",
    "\n",
    "for spine in plt.gca().spines.values():\n",
    "    spine.set_linewidth(0.8) \n",
    "\n",
    "plt.legend(fontsize=10, title_fontsize=12)\n",
    "\n",
    "plt.tight_layout()  \n",
    "# plt.show()\n",
    "# save as pdf\n",
    "plt.savefig('error_distribution_wikitq.pdf', format='pdf')"
   ]
  },
  {
   "cell_type": "code",
   "execution_count": 4,
   "metadata": {},
   "outputs": [
    {
     "name": "stderr",
     "output_type": "stream",
     "text": [
      "HTTP Request: POST https://35.aigcbest.top/v1/chat/completions \"HTTP/1.1 200 OK\"\n"
     ]
    },
    {
     "data": {
      "text/plain": [
       "'I am an AI language model created by OpenAI, known as GPT-3. As an AI, I don\\'t have a specific version number like software would, but I am based on the most recent version of the GPT (Generative Pre-trained Transformer) technology developed by OpenAI. The current version of GPT-3 was released in June 2020.\\n\\nAs for my newest update or \"date due to,\" unfortunately, I am not privy to the specific details of my updates or release schedule. OpenAI periodically makes updates and improvements to their models, but I don\\'t have information on the exact dates for those updates.'"
      ]
     },
     "execution_count": 4,
     "metadata": {},
     "output_type": "execute_result"
    }
   ],
   "source": [
    "gpt = GPTPOOL(model=LLM_NAME)\n",
    "gpt.query('who are you? what is your version. What your newest date due to')"
   ]
  },
  {
   "cell_type": "code",
   "execution_count": 12,
   "metadata": {},
   "outputs": [
    {
     "name": "stderr",
     "output_type": "stream",
     "text": [
      "Load pretrained SentenceTransformer: sentence-transformers/bert-base-nli-mean-tokens\n",
      "Use pytorch device: cpu\n"
     ]
    }
   ],
   "source": [
    "from sentence_transformers import SentenceTransformer\n",
    "encoder = SentenceTransformer('sentence-transformers/bert-base-nli-mean-tokens')"
   ]
  },
  {
   "cell_type": "code",
   "execution_count": null,
   "metadata": {},
   "outputs": [],
   "source": [
    "from joblib import Parallel, delayed\n",
    "import pickle as pkl\n",
    "import os\n",
    "import json\n",
    "\n"
   ]
  },
  {
   "cell_type": "code",
   "execution_count": 5,
   "metadata": {},
   "outputs": [],
   "source": [
    "from src.model.mula_tabpro.prompt import *"
   ]
  },
  {
   "cell_type": "code",
   "execution_count": null,
   "metadata": {},
   "outputs": [],
   "source": [
    "# All Checked\n",
    "demo = IMPUTATER_PROMPT[f\"demo_{NAMES['STAND_NUMERICAL']}\"]\n",
    "for t in demo.split('\\n\\n')[:]:\n",
    "    print(t.strip())\n",
    "    print('--------------------------------')"
   ]
  },
  {
   "cell_type": "code",
   "execution_count": 1,
   "metadata": {},
   "outputs": [],
   "source": [
    "import pandas as pd\n",
    "import pycountry_convert as pc"
   ]
  },
  {
   "cell_type": "code",
   "execution_count": 2,
   "metadata": {},
   "outputs": [
    {
     "name": "stdout",
     "output_type": "stream",
     "text": [
      "CN\n",
      "AS\n"
     ]
    }
   ],
   "source": [
    "from dataprep.clean import clean_country\n",
    "clean_country(df, \"country\", input_format=\"alpha-3\")"
   ]
  },
  {
   "cell_type": "code",
   "execution_count": 15,
   "metadata": {},
   "outputs": [
    {
     "name": "stdout",
     "output_type": "stream",
     "text": [
      "        Date     Cyclist  Medal  age Country\n",
      "0 1900-02-28   Alej(ESP)    NaN   35     ESP\n",
      "1        NaT    Dav. ITA    2.0   28    None\n",
      "2 1900-02-22  Alex.(ITA)    2.0   28     ITA\n"
     ]
    },
    {
     "name": "stderr",
     "output_type": "stream",
     "text": [
      "C:\\Users\\fmh\\AppData\\Local\\Temp\\ipykernel_35852\\4272786614.py:19: FutureWarning: The default value of regex will change from True to False in a future version. In addition, single character regular expressions will *not* be treated as literal strings when regex=True.\n",
      "  df['Medal'] = df['Medal'].str.replace('\"', '').str.replace('*', '').astype(float)\n"
     ]
    }
   ],
   "source": [
    "def format_datetime(col:str, func):\n",
    "    pass\n",
    "\n",
    "format_datetime(col=\"Date\", format=\"%m-%d\")"
   ]
  },
  {
   "cell_type": "code",
   "execution_count": null,
   "metadata": {},
   "outputs": [],
   "source": [
    "import re\n",
    "import pandas as pd\n",
    "\n",
    "df = pd.DataFrame(\n",
    "    {\n",
    "        \"Date\": [\"02-28\", \"01-01\", \"02/22\"],\n",
    "        \"Cyclist\": [\"Alej(ESP)\", \"Dav. ITA\", \"Alex.(ITA)\"],\n",
    "        \"Medal\": ['\"3\"', '\"2\"', '\"2*\"'],\n",
    "        \"age\": [\"35\", \"28\", \"28\"],\n",
    "    }\n",
    ")\n",
    "\n",
    "dates = pd.to_datetime(['12/01', '2021/12/02', '2021/12/03'])\n",
    "print(dates)"
   ]
  },
  {
   "cell_type": "code",
   "execution_count": 4,
   "metadata": {},
   "outputs": [
    {
     "data": {
      "text/html": [
       "<div>\n",
       "<style scoped>\n",
       "    .dataframe tbody tr th:only-of-type {\n",
       "        vertical-align: middle;\n",
       "    }\n",
       "\n",
       "    .dataframe tbody tr th {\n",
       "        vertical-align: top;\n",
       "    }\n",
       "\n",
       "    .dataframe thead th {\n",
       "        text-align: right;\n",
       "    }\n",
       "</style>\n",
       "<table border=\"1\" class=\"dataframe\">\n",
       "  <thead>\n",
       "    <tr style=\"text-align: right;\">\n",
       "      <th></th>\n",
       "      <th>Date</th>\n",
       "      <th>Cyclist</th>\n",
       "      <th>Medal</th>\n",
       "      <th>age</th>\n",
       "      <th>Month</th>\n",
       "    </tr>\n",
       "  </thead>\n",
       "  <tbody>\n",
       "    <tr>\n",
       "      <th>0</th>\n",
       "      <td>02-28</td>\n",
       "      <td>Alej(ESP)</td>\n",
       "      <td>3</td>\n",
       "      <td>35</td>\n",
       "      <td>NaN</td>\n",
       "    </tr>\n",
       "    <tr>\n",
       "      <th>1</th>\n",
       "      <td>Jan. 1st</td>\n",
       "      <td>Dav. ITA</td>\n",
       "      <td>2</td>\n",
       "      <td>28</td>\n",
       "      <td>NaN</td>\n",
       "    </tr>\n",
       "    <tr>\n",
       "      <th>2</th>\n",
       "      <td>02/22</td>\n",
       "      <td>Alex.(ITA)</td>\n",
       "      <td>2*</td>\n",
       "      <td>28</td>\n",
       "      <td>NaN</td>\n",
       "    </tr>\n",
       "  </tbody>\n",
       "</table>\n",
       "</div>"
      ],
      "text/plain": [
       "       Date     Cyclist Medal  age  Month\n",
       "0     02-28   Alej(ESP)     3   35    NaN\n",
       "1  Jan. 1st    Dav. ITA     2   28    NaN\n",
       "2     02/22  Alex.(ITA)    2*   28    NaN"
      ]
     },
     "execution_count": 4,
     "metadata": {},
     "output_type": "execute_result"
    }
   ],
   "source": [
    "import re\n",
    "import pandas as pd\n",
    "\n",
    "\n",
    "# 1. 数据准备操作多余\n",
    "# 2. 数据准备操作不全：month提取之前需要先对date进行格式化\n",
    "# 3. 数据准备操作生成错误\n",
    "# 4. 数据准备操作中参杂reasoning步骤\n",
    "\n",
    "# 不精准\n",
    "# 质量差\n",
    "# 做了除数据准备外的操作\n",
    "\n",
    "# Date | Cyclist | Medal | age\n",
    "# 02-28 | Alej(ESP) | \"3\" | \"35\"\n",
    "# Jan. 1st | Dav. ITA | \"2\" | \"28\"\n",
    "# 02/22 | Alex.(ITA) | \"2*\" | \"28\"\n",
    "df = pd.DataFrame(\n",
    "    {\n",
    "        \"Date\": [\"02-28\", \"Jan. 1st\", \"02/22\"],\n",
    "        \"Cyclist\": [\"Alej(ESP)\", \"Dav. ITA\", \"Alex.(ITA)\"],\n",
    "        \"Medal\": ['\"3\"', '\"2\"', '\"2*\"'],\n",
    "        \"age\": [\"35\", \"28\", \"28\"],\n",
    "    }\n",
    ")\n",
    "\n",
    "import pandas as pd\n",
    "df = pd.read_csv(\"data.csv\")\n",
    "\n",
    "# Cast 'Medal' and 'age' to numeric\n",
    "df[\"Medal\"] = df[\"Medal\"].str.replace('\"', \"\").str.strip()\n",
    "\n",
    "df[\"age\"] = pd.to_numeric(df[\"age\"].str.strip(), errors=\"coerce\")\n",
    "\n",
    "# Extract the month from the 'Date' column\n",
    "df[\"Month\"] = pd.to_datetime(df[\"Date\"], format=\"%m-%d\").dt.month\n",
    "\n",
    "# Filter for February (month 2)\n",
    "feb_df = df[df[\"Month\"] == 2]\n",
    "# Extract country from the 'Cyclist' column\n",
    "feb_df[\"Country\"] = feb_df[\"Cyclist\"].str.extract(r\"\\((.*?)\\)\")[0]\n",
    "\n",
    "df"
   ]
  },
  {
   "cell_type": "code",
   "execution_count": 2,
   "metadata": {},
   "outputs": [
    {
     "name": "stderr",
     "output_type": "stream",
     "text": [
      "HTTP Request: POST https://api.openai.com/v1/chat/completions \"HTTP/1.1 200 OK\"\n"
     ]
    },
    {
     "data": {
      "text/plain": [
       "\"I'm an AI language model here to help answer your questions and provide information on a wide range of topics. How can I assist you today?\""
      ]
     },
     "execution_count": 2,
     "metadata": {},
     "output_type": "execute_result"
    }
   ],
   "source": [
    "gpt = GPTPOOL(model='o1-preview-2024-09-12')\n",
    "gpt.query('who are you?')"
   ]
  },
  {
   "cell_type": "code",
   "execution_count": 9,
   "metadata": {},
   "outputs": [
    {
     "name": "stderr",
     "output_type": "stream",
     "text": [
      "HTTP Request: POST https://api.openai.com/v1/chat/completions \"HTTP/1.1 200 OK\"\n"
     ]
    }
   ],
   "source": [
    "from openai import OpenAI\n",
    "client = OpenAI()\n",
    "completion = client.chat.completions.create(\n",
    "    model='o1-preview-2024-09-12',\n",
    "    messages=[\n",
    "        {\"role\": \"user\", \"content\": \"\"\"【Original Table】:\n",
    "Ship | Type of Vessel | Lake | Location | Lives lost\n",
    "---|---|---|---|---\n",
    "\"Argus\" | \"Steamer\" | \"Lake Huron\" | \"25 miles off Kincardine, Ontario\" | \"25 lost\"\n",
    "\"James Carruthers\" | \"Steamer\" | \"Lake Huron\" | \"near Kincardine\" | \"18 lost\"\n",
    "\"Hydrus\" | \"Steamer\" | \"Lake Huron\" | \"near Lexington, Michigan\" | \"28 lost\"\n",
    "\"Leafield\" | \"Steamer\" | \"Lake Superior\" | nan | \"all hands\"\n",
    "\"John A. McGean\" | \"Steamer\" | \"Lake Huron\" | \"near Goderich, Ontario\" | \"28 lost\"\n",
    "\"Plymouth\" | \"Barge\" | \"Lake Michigan\" | nan | \"7 lost\"\n",
    "\"Charles S. Price\" | \"Steamer\" | \"Lake Huron\" | \"near Port Huron, Michigan\" | \"28 lost\"\n",
    "\"Regina\" | \"Steamer\" | \"Lake Huron\" | \"near Harbor Beach, Michigan\" | nan\n",
    "\"Issac M. Scott\" | \"Steamer\" | \"Lake Huron\" | \"near Port Elgin, Ontario\" | \"28 lost\"\n",
    "\"Henry B. Smith\" | \"Steamer\" | \"Lake Superior\" | nan | \"all hands\"\n",
    "\"Wexford\" | \"Steamer\" | \"Lake Huron\" | \"north of Grand Bend, Ontario\" | \"all hands\"\n",
    "\"Lightship No. 82\" | \"Lightship\" | \"Lake Erie\" | \"Point Albino (near Buffalo)\" | \"6 lost\"\n",
    "【Question】: how many more ships were wrecked in lake huron than in erie?\"\"\"}\n",
    "    ]\n",
    ")\n"
   ]
  },
  {
   "cell_type": "code",
   "execution_count": 10,
   "metadata": {},
   "outputs": [
    {
     "name": "stdout",
     "output_type": "stream",
     "text": [
      "To determine how many more ships were wrecked in Lake Huron than in Lake Erie based on the provided table, we'll count the number of ships listed under each lake.\n",
      "\n",
      "**Ships wrecked in Lake Huron:**\n",
      "\n",
      "1. \"Argus\"\n",
      "2. \"James Carruthers\"\n",
      "3. \"Hydrus\"\n",
      "4. \"John A. McGean\"\n",
      "5. \"Charles S. Price\"\n",
      "6. \"Regina\"\n",
      "7. \"Issac M. Scott\"\n",
      "8. \"Wexford\"\n",
      "\n",
      "**Total ships in Lake Huron:** 8\n",
      "\n",
      "**Ships wrecked in Lake Erie:**\n",
      "\n",
      "1. \"Lightship No. 82\"\n",
      "\n",
      "**Total ships in Lake Erie:** 1\n",
      "\n",
      "**Calculating the difference:**\n",
      "\n",
      "Number of ships wrecked in Lake Huron\\\n",
      "− Number of ships wrecked in Lake Erie\\\n",
      "= 8 − 1\\\n",
      "= **7**\n",
      "\n",
      "**Answer:** 7\n"
     ]
    }
   ],
   "source": [
    "print(completion.choices[0].message.content)"
   ]
  },
  {
   "cell_type": "code",
   "execution_count": null,
   "metadata": {},
   "outputs": [],
   "source": [
    "from openai import OpenAI\n",
    "\n",
    "ask = 'hello, who are you?'\n",
    "client = OpenAI()\n",
    "completion = client.chat.completions.create(\n",
    "    model=\n",
    "    messages=[{\n",
    "        \"role\": \"system\", \"content\": \"Assistant is an intellectual chatbot designed to follow you instructions.\"\n",
    "    }, {\"role\": \"user\", \"content\": ask}],\n",
    "    max_tokens=MAX_OUTPUT_LIMIT\n",
    ")\n",
    "completion"
   ]
  },
  {
   "cell_type": "code",
   "execution_count": null,
   "metadata": {},
   "outputs": [],
   "source": [
    "import re\n",
    "\n",
    "def get_related_cols(func:str):\n",
    "    var = re.findall(r'lambda (.*?):', func)[0]\n",
    "    finds = re.findall(rf'{var}\\[\\'(.*?)\\'\\]', func) + re.findall(rf'{var}\\[\\\"(.*?)\\\"\\]', func)\n",
    "    print(var,rf'{var}\\[\\'(.*?)\\'\\]')\n",
    "    return finds\n",
    "\n",
    "s = \"\"\" ```generate_new_column(df, new_column=\"duration_of_role\", func=lambda x: int(str(x['year']).split('-')[1].split('[')[0]) - int(str(x['year']).split('-')[0]) if '-' in str(x['year']) else 1)```\"\"\"\n",
    "get_related_cols(s)[1]"
   ]
  },
  {
   "cell_type": "code",
   "execution_count": null,
   "metadata": {},
   "outputs": [],
   "source": [
    "col_str = '`col1`, `col2`, `col3`'\n",
    "cols = col_str.split('`')[1::2]\n",
    "cols"
   ]
  },
  {
   "cell_type": "code",
   "execution_count": null,
   "metadata": {},
   "outputs": [],
   "source": [
    "from datetime import datetime\n",
    "\n",
    "datetime.strptime(\"36.54\", \"%M:%S.%f\").strftime(\"%S.%f\")"
   ]
  },
  {
   "cell_type": "code",
   "execution_count": 2,
   "metadata": {},
   "outputs": [],
   "source": [
    "# load pkl\n",
    "origin_data = pkl.load(open(r'D:\\0th-D\\MulA_Tabpro\\tmp\\tablefact_-1.pkl', 'rb'))\n",
    "processed_data = pkl.load(open(r'D:\\0th-D\\MulA_Tabpro\\tmp\\outputs\\mula_tabpro_v3.1.1-tablefact-deepseek-chat_-1_data_prep_processed_data.pkl', 'rb'))"
   ]
  },
  {
   "cell_type": "code",
   "execution_count": null,
   "metadata": {},
   "outputs": [],
   "source": [
    "test_unseen = pd.read_csv(r'D:\\0th-D\\Firefly\\RAG_LLM_DM\\data\\TQA\\wiki_qa\\test_unseen.csv')\n",
    "# set id as index\n",
    "test_unseen.set_index('id', inplace=True)\n",
    "# 提取 id 为 nu-1 的行\n",
    "test_unseen.loc['nu-1']"
   ]
  },
  {
   "cell_type": "code",
   "execution_count": 35,
   "metadata": {},
   "outputs": [],
   "source": [
    "items = []\n",
    "for df in processed_data:\n",
    "    id = df.id\n",
    "    table_id = f'table-{id}'\n",
    "\n",
    "    tbl = df.tbl # pd.dataframe\n",
    "    # tbl.to_csv(f'D:/0th-D/Firefly/RAG_LLM_DM/data/TFV/exp/processed_csv/{table_id}.csv', index=False)\n",
    "\n",
    "    header = tbl.columns.tolist()\n",
    "    rows = tbl.values.tolist()\n",
    "    caption = df.caption\n",
    "    page_title = df.title\n",
    "    statement = df.question\n",
    "    label = df.label\n",
    "    hardness = 'complex'\n",
    "    small_test = False\n",
    "    question = df.question\n",
    "    answer_text = df.label\n",
    "\n",
    "    it = {\n",
    "        'id': id,\n",
    "        'table': {\n",
    "            'id': table_id,\n",
    "            'header': header,\n",
    "            'rows': [[str(cell) for cell in row] for row in rows],\n",
    "            'caption': caption,\n",
    "        },\n",
    "        'statement': statement,\n",
    "        'label': label,\n",
    "        'hardness': hardness,\n",
    "        'small_test': small_test,\n",
    "    }\n",
    "    # print(it)\n",
    "    # print()\n",
    "    # print()\n",
    "\n",
    "    items.append(it)\n",
    "\n",
    "pkl.dump(items, open(r'D:\\0th-D\\Firefly\\RAG_LLM_DM\\data\\TFV\\exp\\processed_data.pkl', 'wb'))"
   ]
  },
  {
   "cell_type": "code",
   "execution_count": null,
   "metadata": {},
   "outputs": [],
   "source": [
    "save_root = r'D:\\0th-D\\Firefly\\RAG_LLM_DM\\data\\TQA\\processed_wiki_qa\\test'"
   ]
  },
  {
   "cell_type": "code",
   "execution_count": null,
   "metadata": {},
   "outputs": [],
   "source": [
    "for df in processed_data:\n",
    "    id = df.id\n",
    "    tbl = df.tbl\n",
    "    col_type = df.col_type\n",
    "    title = df.title\n",
    "\n",
    "    table_path = os.path.join(save_root, id+'.tsv')\n",
    "    tbl.to_csv(table_path, sep='\\t', index=False)\n",
    "    if title is not None:\n",
    "        json_file = table_path.replace('.tsv', '.json')\n",
    "        print('saved to json: ', json_file)\n",
    "        save_obj = {'title': title}\n",
    "        with open(json_file, 'w', encoding='utf-8') as f:\n",
    "            json.dump(save_obj, f, ensure_ascii=False, indent=4)\n",
    "        "
   ]
  },
  {
   "cell_type": "code",
   "execution_count": null,
   "metadata": {},
   "outputs": [],
   "source": [
    "import pickle as pkl\n",
    "import pandas as pd\n",
    "\n",
    "datas = pkl.load(open('tmp/wiki_qa_-1.pkl', 'rb'))\n",
    "data_dict = {d.id:d for d in datas}\n",
    "key = 'nu-2282'\n",
    "df = data_dict[key]\n",
    "df = add_row_number_to_df(data_dict[key].tbl, col_name='row_id')\n",
    "df, _ = base_clean_dataframe(df)\n",
    "df"
   ]
  },
  {
   "cell_type": "code",
   "execution_count": null,
   "metadata": {},
   "outputs": [],
   "source": [
    "# execute sql on df\n",
    "conn = sqlite3.connect(':memory:')\n",
    "sql = \"\"\"SELECT `format` FROM w WHERE `row_id` = ( SELECT `row_id` FROM w WHERE `format` = 'combination field' ) + 1\"\"\"\n",
    "sql, _ = post_process_sql(sql, df, df.title)\n",
    "print(sql)\n",
    "df.to_sql('w', conn, index=False, if_exists='replace')"
   ]
  },
  {
   "cell_type": "code",
   "execution_count": null,
   "metadata": {},
   "outputs": [],
   "source": [
    "import pickle as pkl\n",
    "\n",
    "d = pkl.load(open(f'tmp/{TASK_TYPE}-{LLM_NAME}_mul-dp_temp_data.pkl', 'rb'))\n",
    "len(d)\n",
    "# d"
   ]
  },
  {
   "cell_type": "code",
   "execution_count": null,
   "metadata": {},
   "outputs": [],
   "source": [
    "from dateutil import parser\n",
    "parser.parse('02-01') == parser.parse('1-Feb')"
   ]
  },
  {
   "cell_type": "code",
   "execution_count": null,
   "metadata": {},
   "outputs": [],
   "source": [
    "type((1,1))\n",
    "from src.tools.utils import open_json\n",
    "open_json(rf'D:\\0th-D\\MulA_Tabpro\\tmp\\outputs\\result_v3.0-tableqa-deepseek-chat_-1_baseline_nl2sqler.json')"
   ]
  },
  {
   "cell_type": "code",
   "execution_count": null,
   "metadata": {},
   "outputs": [],
   "source": [
    "import re\n",
    "DATE_PATTERN = re.compile('[0-9]{4}-[0-9]{1,2}-[0-9]{1,2}\\s*([0-9]{1,2}:[0-9]{1,2}:[0-9]{1,2})?')\n",
    "p, g = '02-01', '1-Feb'\n",
    "\n",
    "re.match(DATE_PATTERN, p), re.match(DATE_PATTERN, g)"
   ]
  },
  {
   "cell_type": "code",
   "execution_count": null,
   "metadata": {},
   "outputs": [],
   "source": [
    "import pandas as pd\n",
    "import re\n",
    "lis = \"\"\"1 episode | 1 episode | 119 episodes | 13 episodes | voice<br>3 episodes | episode: \\drugs are bad | [n.a.] | season 3 episode 24 'to tell the truth'\"\"\".split(' | ')\n",
    "f = \n",
    "for s in lis:\n",
    "    try:\n",
    "        print(s, '--->', f(s))\n",
    "    except:\n",
    "        print(s)\n",
    "        continue\n",
    "# f('[n.a.]')"
   ]
  },
  {
   "cell_type": "code",
   "execution_count": null,
   "metadata": {},
   "outputs": [],
   "source": [
    "def rename_file2(root, include_str, replace_to, exclude_str=None):\n",
    "    # rename files in root directory\n",
    "    # replace include_str to replace_to\n",
    "    for path, subdirs, files in os.walk(root):\n",
    "        for name in files:\n",
    "            if exclude_str is not None:\n",
    "                if exclude_str in name:\n",
    "                    continue\n",
    "            if include_str in name:\n",
    "                new_name = name.replace(include_str, replace_to)\n",
    "                os.rename(os.path.join(path, name), os.path.join(path, new_name))\n",
    "\n",
    "rename_file2(r'E:\\fmh\\MulA_Tabpro\\tmp', include_str='v3.0-tableqa', replace_to='v3.0-tableqa-deepseek-chat', exclude_str='gpt-3.5-turbo-0613')"
   ]
  },
  {
   "cell_type": "code",
   "execution_count": null,
   "metadata": {},
   "outputs": [],
   "source": [
    "view_gen = ViewGenerator(llm_name='deepseek-chat')\n",
    "impu = Imputater(llm_name='deepseek-coder')"
   ]
  },
  {
   "cell_type": "code",
   "execution_count": null,
   "metadata": {},
   "outputs": [],
   "source": [
    "cleaner = Cleaner(llm_name='deepseek-coder')\n",
    "i = 412\n",
    "datas = ds.train_data\n",
    "len(datas)"
   ]
  },
  {
   "cell_type": "code",
   "execution_count": null,
   "metadata": {},
   "outputs": [],
   "source": [
    "i += 1\n",
    "df = copy.deepcopy(datas[i])\n",
    "df.tbl, _ = base_clean_dataframe(df.tbl, value_standardization=False)\n",
    "df, question, title = df.tbl, df.question, df.title\n",
    "print(i, question, df.label, title)\n",
    "df"
   ]
  },
  {
   "cell_type": "code",
   "execution_count": null,
   "metadata": {},
   "outputs": [],
   "source": [
    "df, op = view_gen.generate_column_from_column(copy.deepcopy(df), col='score', require='what is the difference?')"
   ]
  },
  {
   "cell_type": "code",
   "execution_count": null,
   "metadata": {},
   "outputs": [],
   "source": [
    "df = impu.col_generate_imputate(df, op)"
   ]
  },
  {
   "cell_type": "code",
   "execution_count": null,
   "metadata": {},
   "outputs": [],
   "source": [
    "df, op = view_gen.generate_column_from_table(copy.deepcopy(df), new_col='temperature_upper_limit_c')"
   ]
  },
  {
   "cell_type": "code",
   "execution_count": null,
   "metadata": {},
   "outputs": [],
   "source": [
    "cleaned_data = copy.deepcopy(df)\n",
    "cleaned_data.tbl, _ = base_clean_dataframe(cleaned_data.tbl)\n",
    "df, question, title = cleaned_data.tbl, cleaned_data.question, cleaned_data.title\n",
    "print(i, question, cleaned_data.label, title)\n",
    "df"
   ]
  },
  {
   "cell_type": "code",
   "execution_count": null,
   "metadata": {},
   "outputs": [],
   "source": [
    "impu.standardize_imputate(origin_data=df, cleaned_data=cleaned_data, col='year', coltype='numerical')"
   ]
  },
  {
   "cell_type": "code",
   "execution_count": null,
   "metadata": {},
   "outputs": [],
   "source": [
    "col = 'peak_positions_nor'\n",
    "# 遍历该列所有元素\n",
    "for val in df[col]:\n",
    "    print(val)\n",
    "    # new_val = str(val) + '-visited'\n",
    "    # df[col] = df[col].replace(val, new_val)\n",
    "df"
   ]
  },
  {
   "cell_type": "code",
   "execution_count": null,
   "metadata": {},
   "outputs": [],
   "source": [
    "time = '48:49.169'\n",
    "parser.parse(time)"
   ]
  },
  {
   "cell_type": "code",
   "execution_count": null,
   "metadata": {},
   "outputs": [],
   "source": [
    "from src.tools.binder_utils.evaluator import Evaluator\n",
    "\n",
    "eval = Evaluator()\n",
    "eval.evaluate(pred_answer='1915-1916', gold_answer='1915-16', dataset='wikitq',question=\"\")"
   ]
  },
  {
   "cell_type": "code",
   "execution_count": null,
   "metadata": {},
   "outputs": [],
   "source": [
    "my_date('03:59:18.6000') == my_date('03:59:18.6')"
   ]
  },
  {
   "cell_type": "code",
   "execution_count": null,
   "metadata": {},
   "outputs": [],
   "source": [
    "coltype_dict = {'time': 'datetime'}\n",
    "df = cleaner.standardize_coltype(df, coltype_dict)"
   ]
  },
  {
   "cell_type": "code",
   "execution_count": null,
   "metadata": {},
   "outputs": [],
   "source": [
    "from sqlalchemy import create_engine, text\n",
    "import pandas as pd\n",
    "\n",
    "# Database connection parameters\n",
    "dbname = 'test'\n",
    "user = 'postgres'\n",
    "password = 'fanmeihao'\n",
    "host = 'localhost'\n",
    "i = 412\n",
    "# DataFrame with sample data\n",
    "datas = ds.test_unseen_data\n",
    "df = copy.deepcopy(datas[i])\n",
    "df, question, title = df.tbl, df.question, df.title\n",
    "# df添加一 空列 replace_tok0\n",
    "df = df.assign(result_1=df.iloc[:, 0])\n",
    "df, _ = base_clean_dataframe(df)\n",
    "print(df[:2])\n",
    "sql = \"\"\"SELECT replace_tok AS country, COUNT(*) AS cyclist_count\n",
    "FROM my_table\n",
    "WHERE rank <= 10\n",
    "GROUP BY country\n",
    "ORDER BY cyclist_count DESC\n",
    "CAST(result_1 AS INT)\n",
    "LIMIT 1\"\"\"\n",
    "sql_query, related_cols = post_process_sql(sql_str=sql, df=df, process_program_with_fuzzy_match_on_db=True, table_title=title, verbose=False)\n",
    "print(sql_query)\n",
    "print(related_cols)"
   ]
  },
  {
   "cell_type": "code",
   "execution_count": null,
   "metadata": {},
   "outputs": [],
   "source": []
  },
  {
   "cell_type": "code",
   "execution_count": null,
   "metadata": {},
   "outputs": [],
   "source": [
    "i = 0\n",
    "datas = ds.test_unseen_data\n",
    "df = datas[i]\n",
    "df, question, title = df.tbl, df.question, df.title\n",
    "sql = \"\"\"SELECT MAP(\"extract country from cyclist\"; Cyclist, Team) AS Country, COUNT(*) AS Cyclist1Count\n",
    "FROM w\n",
    "WHERE Rank <= 10\n",
    "GROUP BY Country, Cyclist\n",
    "ORDER BY CyclistCount DESC\n",
    "LIMIT 1\"\"\"\n",
    "sql, matched_headers = post_process_sql(sql_str=sql, df=df, process_program_with_fuzzy_match_on_db=True, table_title=title, verbose=True)\n",
    "print(sql)\n",
    "print(matched_headers)\n",
    "df"
   ]
  },
  {
   "cell_type": "code",
   "execution_count": null,
   "metadata": {},
   "outputs": [],
   "source": [
    "f = eval(\"lambda x: int(x.replace('.', ''))\")"
   ]
  },
  {
   "cell_type": "code",
   "execution_count": null,
   "metadata": {},
   "outputs": [],
   "source": [
    "standardize_numerical(df, column='UCI ProTour\\nPoints', func=f)"
   ]
  },
  {
   "cell_type": "code",
   "execution_count": null,
   "metadata": {},
   "outputs": [],
   "source": [
    "print(sql)\n",
    "sql, matched_headers = post_process_sql(sql_str=sql, df=df, process_program_with_fuzzy_match_on_db=True, table_title=title, verbose=False)\n",
    "print(sql)"
   ]
  },
  {
   "cell_type": "code",
   "execution_count": null,
   "metadata": {},
   "outputs": [],
   "source": [
    "i = 1\n",
    "datas = ds.test_unseen_data\n",
    "df = datas[i]\n",
    "df, question, title, label = df.tbl, df.question, df.title, df.label\n",
    "sql = \"\"\"SELECT 1940/41 FROM w WHERE Description Losses = 'murder'\"\"\"\n",
    "new_sql, matched_headers = post_process_sql(sql_str=sql, df=df, process_program_with_fuzzy_match_on_db=True, table_title=title, verbose=True)\n",
    "print(new_sql)\n",
    "# df\n",
    "\n",
    "df.to_sql('w', sql_exe.conn, index=False, if_exists='replace')"
   ]
  },
  {
   "cell_type": "code",
   "execution_count": null,
   "metadata": {},
   "outputs": [],
   "source": [
    "i = 1\n",
    "datas = ds.test_unseen_data\n",
    "df = datas[i]\n",
    "df, question, title, label = df.tbl, df.question, df.title, df.label\n",
    "sql = \"\"\"SELECT \n",
    "    id,\n",
    "    quantity,\n",
    "    unit_price,\n",
    "    discount,\n",
    "    sales_date,\n",
    "    quantity * unit_price AS total_sales,\n",
    "    (quantity * unit_price) * discount AS discount_amount,\n",
    "    (quantity * unit_price) * (1 - discount) * 0.08 AS tax_amount,\n",
    "    (quantity * unit_price) * (1 - discount) + (quantity * unit_price) * (1 - discount) * 0.08 AS net_sales\n",
    "FROM \n",
    "    sales\n",
    "WHERE \n",
    "    discount > 0 AND discount <= 0.20\n",
    "ORDER BY \n",
    "    net_sales DESC;\"\"\"\n",
    "new_sql, matched_headers = post_process_sql(sql_str=sql, df=df, process_program_with_fuzzy_match_on_db=True, table_title=title, verbose=True)\n",
    "print(new_sql)\n",
    "df"
   ]
  },
  {
   "cell_type": "code",
   "execution_count": null,
   "metadata": {},
   "outputs": [],
   "source": [
    "print(label)\n",
    "sql_exe.execute(df, new_sql)"
   ]
  },
  {
   "cell_type": "code",
   "execution_count": null,
   "metadata": {},
   "outputs": [],
   "source": [
    "if os.path.exists('tmp/data_clean_dic.pkl'):\n",
    "    data_clean_dic = pkl.load(open('tmp/data_clean_dic.pkl', 'rb'))\n",
    "    chain_clean_dic = pkl.load(open('tmp/chain_clean_dic.pkl', 'rb'))\n",
    "    data_viewgen_dic = pkl.load(open('tmp/data_viewgen_dic.pkl', 'rb'))\n",
    "    chain_viewgen_dic = pkl.load(open('tmp/chain_viewgen_dic.pkl', 'rb'))\n",
    "else:\n",
    "    data_clean_dic, data_viewgen_dic = {}, {}\n",
    "    chain_clean_dic, chain_viewgen_dic = {}, {}\n",
    "print(len(data_clean_dic), len(data_viewgen_dic), len(chain_clean_dic), len(chain_viewgen_dic))\n",
    "for df in datas:\n",
    "    id = df.id\n",
    "    if id in chain_viewgen_dic:\n",
    "        print(f'id {id} already processed')\n",
    "\n",
    "    cleaner = Cleaner(llm_name='gpt-3.5-turbo-0613', chains=[InitOP()])\n",
    "    view_gen = ViewGenerator(llm_name='gpt-3.5-turbo-0613', chains=[InitOP()])\n",
    "\n",
    "    try:\n",
    "        chain_clean, data_clean = cleaner.process(df)\n",
    "    except:\n",
    "        chain_clean, data_clean = cleaner.chains, cleaner.data\n",
    "    data_clean_dic[id] = data_clean\n",
    "    chain_clean_dic[id] = chain_clean\n",
    "\n",
    "    try:\n",
    "        chain_viewgen, data_viewgen = view_gen.process(df)\n",
    "    except:\n",
    "        chain_viewgen, data_viewgen = view_gen.chains, view_gen.data\n",
    "    data_viewgen_dic[id] = data_viewgen\n",
    "    chain_viewgen_dic[id] = chain_viewgen\n",
    "\n",
    "    with open('tmp/data_clean_dic.pkl', 'wb') as f:\n",
    "        pkl.dump(data_clean_dic, f)\n",
    "    with open('tmp/data_viewgen_dic.pkl', 'wb') as f:\n",
    "        pkl.dump(data_viewgen_dic, f)\n",
    "    with open('tmp/chain_clean_dic.pkl', 'wb') as f:\n",
    "        pkl.dump(chain_clean_dic, f)\n",
    "    with open('tmp/chain_viewgen_dic.pkl', 'wb') as f:\n",
    "        pkl.dump(chain_viewgen_dic, f)\n",
    "\n",
    "    print(id, cleaner._log_current_chain(), view_gen._log_current_chain())"
   ]
  },
  {
   "cell_type": "code",
   "execution_count": null,
   "metadata": {},
   "outputs": [],
   "source": [
    "nl2sqler = NL2SQLer(llm_name='gpt-3.5-turbo-0613', chains=[InitOP()])\n",
    "sql, ans = nl2sqler.process(datas[0])"
   ]
  },
  {
   "cell_type": "code",
   "execution_count": null,
   "metadata": {},
   "outputs": [],
   "source": []
  },
  {
   "cell_type": "code",
   "execution_count": null,
   "metadata": {},
   "outputs": [],
   "source": []
  },
  {
   "cell_type": "code",
   "execution_count": null,
   "metadata": {},
   "outputs": [],
   "source": []
  },
  {
   "cell_type": "code",
   "execution_count": null,
   "metadata": {},
   "outputs": [],
   "source": [
    "i = 127"
   ]
  },
  {
   "cell_type": "code",
   "execution_count": null,
   "metadata": {},
   "outputs": [],
   "source": [
    "i+=1\n",
    "print(i, ds.train_data[i].question)\n",
    "ds.train_data[i].tbl"
   ]
  },
  {
   "cell_type": "code",
   "execution_count": null,
   "metadata": {},
   "outputs": [],
   "source": [
    "df"
   ]
  },
  {
   "cell_type": "code",
   "execution_count": null,
   "metadata": {},
   "outputs": [],
   "source": [
    "new_df = remove_unit(df, column='notes', unit='m')\n",
    "new_df"
   ]
  },
  {
   "cell_type": "code",
   "execution_count": null,
   "metadata": {},
   "outputs": [],
   "source": [
    "df, _= base_clean_dataframe(ds.train_data[i].tbl)\n",
    "print(df_to_str_columns(df))"
   ]
  },
  {
   "cell_type": "code",
   "execution_count": null,
   "metadata": {},
   "outputs": [],
   "source": [
    "df = copy.deepcopy(ds.train_data[i].tbl)\n",
    "# The Date value is: May 31, set the format\n",
    "standardize_datetime(df, 'Date', '%B %d')"
   ]
  },
  {
   "cell_type": "code",
   "execution_count": null,
   "metadata": {},
   "outputs": [],
   "source": []
  },
  {
   "cell_type": "code",
   "execution_count": null,
   "metadata": {},
   "outputs": [],
   "source": [
    "view_gen._log_current_chain()"
   ]
  },
  {
   "cell_type": "code",
   "execution_count": null,
   "metadata": {},
   "outputs": [],
   "source": [
    "df = ds.train_data[i]\n",
    "view_gen = ViewGenerator(llm_name='gpt-3.5-turbo-0613', chains=[InitOP()])\n",
    "try:\n",
    "    chains, df = view_gen.process(df)\n",
    "except:\n",
    "    chains, df = view_gen.chains, view_gen.data"
   ]
  },
  {
   "cell_type": "code",
   "execution_count": null,
   "metadata": {},
   "outputs": [],
   "source": [
    "cleaner._log_current_chain()"
   ]
  },
  {
   "cell_type": "code",
   "execution_count": null,
   "metadata": {},
   "outputs": [],
   "source": [
    "df = ds.train_data[i]\n",
    "cleaner = Cleaner(llm_name='gpt-3.5-turbo-0613', chains=[InitOP()])\n",
    "chains, df = cleaner.process(df)"
   ]
  },
  {
   "cell_type": "code",
   "execution_count": null,
   "metadata": {},
   "outputs": [],
   "source": [
    "df.col_type"
   ]
  },
  {
   "cell_type": "code",
   "execution_count": null,
   "metadata": {},
   "outputs": [],
   "source": [
    "tbl,_ = base_clean_dataframe(ds.train_data[i].tbl)\n",
    "print(df_to_str_columns(tbl), ds.train_data[i].question, sep='\\n\\n')"
   ]
  },
  {
   "cell_type": "markdown",
   "metadata": {},
   "source": [
    "# EVAL Binder Result"
   ]
  },
  {
   "cell_type": "code",
   "execution_count": null,
   "metadata": {},
   "outputs": [],
   "source": [
    "data_dic = {d.id: d for d in ds.test_unseen_data}\n",
    "res = open_json(fr'D:\\0th-D\\MulA_Tabpro\\tmp\\history\\____v3.1.5_complete_perf_on_wikit_tabfact\\wikitq\\outputs\\binder_program_wikitq_dp_test_deepseek-chat_exec.json')\n",
    "len(res)\n",
    "eval = Evaluator()\n",
    "hits = 0\n",
    "for k in res.keys():\n",
    "    id = 'nu-' + k\n",
    "    hit = eval.evaluate(res[k]['pred_answer'], res[k]['gold_answer'], dataset='wikitq', question=res[k]['question'])\n",
    "    if hit:\n",
    "        hits += 1\n",
    "\n",
    "hits / len(res)"
   ]
  }
 ],
 "metadata": {
  "kernelspec": {
   "display_name": "batcher",
   "language": "python",
   "name": "python3"
  },
  "language_info": {
   "codemirror_mode": {
    "name": "ipython",
    "version": 3
   },
   "file_extension": ".py",
   "mimetype": "text/x-python",
   "name": "python",
   "nbconvert_exporter": "python",
   "pygments_lexer": "ipython3",
   "version": "3.9.14"
  }
 },
 "nbformat": 4,
 "nbformat_minor": 2
}
